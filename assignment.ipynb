{
 "cells": [
  {
   "cell_type": "code",
   "execution_count": 1,
   "id": "a487b5a5-cc31-45f4-a15f-193dd6ae62f4",
   "metadata": {},
   "outputs": [],
   "source": [
    "# ans no 1= python was created by Guido van Rossum."
   ]
  },
  {
   "cell_type": "code",
   "execution_count": 2,
   "id": "3b04ed88-5ccb-48d9-98c4-587f93679c06",
   "metadata": {},
   "outputs": [],
   "source": [
    "# ans-2= python support oops,structured and functional programming"
   ]
  },
  {
   "cell_type": "code",
   "execution_count": 3,
   "id": "1e5049ac-1f62-4df5-ba5c-66818c38f63d",
   "metadata": {},
   "outputs": [],
   "source": [
    "# ans-3 = yes python is case senstive language ."
   ]
  },
  {
   "cell_type": "code",
   "execution_count": 4,
   "id": "e5d5d5fa-74f9-48ed-ab95-e4999ac3f25d",
   "metadata": {},
   "outputs": [],
   "source": [
    "# ans - 4 = .py is extension of python file"
   ]
  },
  {
   "cell_type": "code",
   "execution_count": 5,
   "id": "cf07b72b-6ab0-478a-b6e1-ef5c7c06e43e",
   "metadata": {},
   "outputs": [],
   "source": [
    "# ans - 5 = python code are interpreted"
   ]
  },
  {
   "cell_type": "code",
   "execution_count": 6,
   "id": "e8a56545-7279-4bdc-814f-cb2d1fbe5a05",
   "metadata": {},
   "outputs": [],
   "source": [
    "# ans- 6 = Indentation ,module, funtions are used to define block of code"
   ]
  },
  {
   "cell_type": "code",
   "execution_count": 7,
   "id": "744ba426-629c-4f42-b76c-f454d8254ca8",
   "metadata": {},
   "outputs": [],
   "source": [
    "#ans no 7= # is used to give single line comment in python"
   ]
  },
  {
   "cell_type": "code",
   "execution_count": 17,
   "id": "c9aa117b-95c9-4b52-9738-2ca78190fc0c",
   "metadata": {},
   "outputs": [],
   "source": [
    "# ans no 8= sys.version is used for find python version."
   ]
  },
  {
   "cell_type": "code",
   "execution_count": 18,
   "id": "1ddad92a-cc3b-4ce2-b2d6-93aa754a6fbf",
   "metadata": {},
   "outputs": [],
   "source": [
    "# ans no 9= class"
   ]
  },
  {
   "cell_type": "code",
   "execution_count": 19,
   "id": "49598643-1cef-4e8e-98b3-3c33f06d2990",
   "metadata": {},
   "outputs": [],
   "source": [
    "# ans no 10 = PIP is stand for 'preferred installer program' in python"
   ]
  },
  {
   "cell_type": "code",
   "execution_count": 20,
   "id": "9e33d568-d728-411e-bf87-26d33a38062a",
   "metadata": {},
   "outputs": [],
   "source": [
    "# ans no 11= print(), sum(), type(), len() are some inbuilt function in pythpn."
   ]
  },
  {
   "cell_type": "code",
   "execution_count": 21,
   "id": "9098759e-e1a1-437d-9a71-accc780518b8",
   "metadata": {},
   "outputs": [],
   "source": [
    "# ans no 12 = an identifier can have a maximum length of 79 characters in python."
   ]
  },
  {
   "cell_type": "code",
   "execution_count": 22,
   "id": "73c73367-7a26-4fd3-afb7-6d212ce3d43a",
   "metadata": {},
   "outputs": [],
   "source": [
    "# ans no 13 = versatility , efficiency, reliability, speed."
   ]
  },
  {
   "cell_type": "code",
   "execution_count": 23,
   "id": "c9b0c919-bf07-457a-a35a-7ca85ba25fdb",
   "metadata": {},
   "outputs": [],
   "source": [
    "# ans no 14 = memory managment in python involves a private heap containing all python objrcts"
   ]
  },
  {
   "cell_type": "code",
   "execution_count": null,
   "id": "3ee5871f-291d-41f4-ad78-c5b1f800ffe1",
   "metadata": {},
   "outputs": [],
   "source": [
    "#ans no 15 = Right click on My Computer and click on properties.\n",
    "#cick on Advanced System settings.\n",
    "#Click on Environment Variable tab.\n",
    "Click on new tab of user variables.\n",
    "Write path in variable name.\n",
    "Copy the path of Python folder.\n",
    "Paste path of Python in variable value."
   ]
  }
 ],
 "metadata": {
  "kernelspec": {
   "display_name": "Python 3 (ipykernel)",
   "language": "python",
   "name": "python3"
  },
  "language_info": {
   "codemirror_mode": {
    "name": "ipython",
    "version": 3
   },
   "file_extension": ".py",
   "mimetype": "text/x-python",
   "name": "python",
   "nbconvert_exporter": "python",
   "pygments_lexer": "ipython3",
   "version": "3.10.8"
  }
 },
 "nbformat": 4,
 "nbformat_minor": 5
}
