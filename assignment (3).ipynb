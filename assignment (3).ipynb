{
 "cells": [
  {
   "cell_type": "code",
   "execution_count": 1,
   "id": "f422c515-470c-49ed-a292-4c52fcc6a203",
   "metadata": {},
   "outputs": [],
   "source": [
    "# ans no 1"
   ]
  },
  {
   "cell_type": "code",
   "execution_count": 2,
   "id": "64ee2891-c42b-4348-b050-e7477f9e2873",
   "metadata": {},
   "outputs": [
    {
     "name": "stdin",
     "output_type": "stream",
     "text": [
      "input your mark 10\n"
     ]
    },
    {
     "name": "stdout",
     "output_type": "stream",
     "text": [
      "Grade D\n"
     ]
    }
   ],
   "source": [
    "mark = int(input(\"input your mark\"))\n",
    "if mark > 90:\n",
    "    print (\"Grade A\")\n",
    "elif mark > 80 and mark <= 90:\n",
    "    print (\"Grade B\")\n",
    "elif mark >= 60 and mark <= 80: \n",
    "    print (\"Grade c\")\n",
    "else:\n",
    "    print (\"Grade D\")"
   ]
  },
  {
   "cell_type": "code",
   "execution_count": 3,
   "id": "73f23b3c-f81c-487e-a1a4-1f8197e480bf",
   "metadata": {},
   "outputs": [],
   "source": [
    "# ans no 2"
   ]
  },
  {
   "cell_type": "code",
   "execution_count": 4,
   "id": "fa46a185-49c9-4242-9180-1e180b29cf1c",
   "metadata": {},
   "outputs": [
    {
     "name": "stdin",
     "output_type": "stream",
     "text": [
      " price 20\n"
     ]
    },
    {
     "name": "stdout",
     "output_type": "stream",
     "text": [
      "Tax 5%\n"
     ]
    }
   ],
   "source": [
    "price = int(input(\" price\"))\n",
    "if price > 100000:\n",
    "    print (\"Tax 15%\")\n",
    "elif price > 50000 and price <= 100000:\n",
    "    print (\"Tax 10%\")\n",
    "else :\n",
    "    print (\"Tax 5%\")"
   ]
  },
  {
   "cell_type": "code",
   "execution_count": 5,
   "id": "66913a63-1e02-4971-8d9b-37d0f89054c6",
   "metadata": {},
   "outputs": [],
   "source": [
    "# ans no 3"
   ]
  },
  {
   "cell_type": "code",
   "execution_count": 6,
   "id": "e03f1821-b5b7-44a4-ad6e-09228d39a44c",
   "metadata": {},
   "outputs": [
    {
     "name": "stdin",
     "output_type": "stream",
     "text": [
      "city lko\n"
     ]
    },
    {
     "name": "stdout",
     "output_type": "stream",
     "text": [
      "Sorry, No Monument \n"
     ]
    }
   ],
   "source": [
    "city = input(\"city\")\n",
    "if city == \"delhi\":\n",
    "    print (\"Red Fort\")\n",
    "elif city == \"agra\":\n",
    "    print (\"TajMahal\")\n",
    "elif city == (\"jaipur\"):\n",
    "    print (\"Jai Mahal\")\n",
    "else:\n",
    "    print (\"Sorry, No Monument \")"
   ]
  },
  {
   "cell_type": "code",
   "execution_count": 7,
   "id": "85e30b77-b1cb-4679-83a0-4c77c75809ab",
   "metadata": {},
   "outputs": [],
   "source": [
    "# ans no 4"
   ]
  },
  {
   "cell_type": "code",
   "execution_count": 8,
   "id": "261fe13d-4dd7-41be-913d-dcc9f51b5aa2",
   "metadata": {},
   "outputs": [
    {
     "name": "stdin",
     "output_type": "stream",
     "text": [
      "please input number 15\n"
     ]
    },
    {
     "name": "stdout",
     "output_type": "stream",
     "text": [
      "5\n"
     ]
    }
   ],
   "source": [
    "n = int(input(\"please input number\"))\n",
    "r = n%3\n",
    "q = n//3\n",
    "while r <=10:\n",
    "    print (q)\n",
    "    break"
   ]
  },
  {
   "cell_type": "code",
   "execution_count": 9,
   "id": "9010926b-05e2-44ae-a9ff-b1ec2e0ecb81",
   "metadata": {},
   "outputs": [],
   "source": [
    "# ans no 5\n",
    "\n"
   ]
  },
  {
   "cell_type": "code",
   "execution_count": 10,
   "id": "3af6685d-74fd-4eed-83df-092d9f152688",
   "metadata": {},
   "outputs": [
    {
     "name": "stdout",
     "output_type": "stream",
     "text": [
      "1\n",
      "2\n",
      "3\n",
      "4\n",
      "5\n",
      "6\n",
      "7\n",
      "8\n",
      "9\n"
     ]
    }
   ],
   "source": [
    "\"\"\" while loop is check given condition before initilization . while loop is used when given iteration is unknown. its excuted till condition is true.\n",
    "for example: \"\"\"\n",
    "a=  1\n",
    "while a < 10:\n",
    "    print(a)\n",
    "    a = a+ 1"
   ]
  },
  {
   "cell_type": "code",
   "execution_count": 11,
   "id": "cbfbefa6-bd4b-4043-98bf-630708c8b86d",
   "metadata": {},
   "outputs": [],
   "source": [
    "#ans no 6"
   ]
  },
  {
   "cell_type": "code",
   "execution_count": 12,
   "id": "7f256589-1853-4ca1-9ec0-9aa47515295d",
   "metadata": {},
   "outputs": [
    {
     "name": "stdout",
     "output_type": "stream",
     "text": [
      "1  \n",
      "1 2  \n",
      "1 2 3  \n",
      "1 2 3 4  \n",
      "1 2 3 4 5  \n"
     ]
    }
   ],
   "source": [
    "i = 1\n",
    "while i <= 5:\n",
    "    j = 1\n",
    "    while j <= i:\n",
    "        print (j , end=\" \")\n",
    "        j = j+ 1\n",
    "    print(\" \")\n",
    "    i = i+1"
   ]
  },
  {
   "cell_type": "code",
   "execution_count": 13,
   "id": "4e3c4dbc-8fbd-477c-b8d9-ba1625e82f16",
   "metadata": {},
   "outputs": [],
   "source": [
    "# ans no 7\n"
   ]
  },
  {
   "cell_type": "code",
   "execution_count": 18,
   "id": "19b1c0ea-798f-4d48-b340-c7d31e7ba190",
   "metadata": {},
   "outputs": [
    {
     "name": "stdout",
     "output_type": "stream",
     "text": [
      "10\n",
      "9\n",
      "8\n",
      "7\n",
      "6\n",
      "5\n",
      "4\n",
      "3\n",
      "2\n",
      "1\n"
     ]
    }
   ],
   "source": [
    "i = 10\n",
    "while i >= 1:\n",
    "    print (i)\n",
    "    i = i-1\n"
   ]
  },
  {
   "cell_type": "code",
   "execution_count": 19,
   "id": "2de302be-8552-4d99-9537-ded199b7805c",
   "metadata": {},
   "outputs": [],
   "source": [
    "# ans no 8"
   ]
  },
  {
   "cell_type": "code",
   "execution_count": 21,
   "id": "ef718892-0c38-4c32-a1f9-8fda53604ae3",
   "metadata": {},
   "outputs": [
    {
     "name": "stdout",
     "output_type": "stream",
     "text": [
      "10\n",
      "9\n",
      "8\n",
      "7\n",
      "6\n",
      "5\n",
      "4\n",
      "3\n",
      "2\n",
      "1\n"
     ]
    }
   ],
   "source": [
    "i = 10\n",
    "while i >= 1:\n",
    "    print (i)\n",
    "    i = i-1\n"
   ]
  },
  {
   "cell_type": "code",
   "execution_count": null,
   "id": "fa11c81c-dcd3-42a1-aa3f-aac274cde876",
   "metadata": {},
   "outputs": [],
   "source": []
  }
 ],
 "metadata": {
  "kernelspec": {
   "display_name": "Python 3 (ipykernel)",
   "language": "python",
   "name": "python3"
  },
  "language_info": {
   "codemirror_mode": {
    "name": "ipython",
    "version": 3
   },
   "file_extension": ".py",
   "mimetype": "text/x-python",
   "name": "python",
   "nbconvert_exporter": "python",
   "pygments_lexer": "ipython3",
   "version": "3.10.8"
  }
 },
 "nbformat": 4,
 "nbformat_minor": 5
}
